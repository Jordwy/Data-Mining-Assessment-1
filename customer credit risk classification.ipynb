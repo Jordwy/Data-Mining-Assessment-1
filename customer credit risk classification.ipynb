{
 "cells": [
  {
   "cell_type": "markdown",
   "id": "74e8d175",
   "metadata": {},
   "source": [
    "## Explore, aggregate and transform the attributes (1.5 marks) \n",
    "- i. Write a Python script to read the input CSV file and perform any necessary pre-processing so that the data becomes suitable to be used.\n",
    "\n",
    "- ii.  Describe the pre-processing you carried out with justifications in your report.\n",
    "    \n",
    "\n",
    "    (Hint: Think about missing values and categorical attributes. \n",
    "    How to deal with them? \n",
    "    Should we turn them all into dummies? \n",
    "    Use only some? \n",
    "    Create new informative attributes by aggregating some attributes? \n",
    "    And so on.)\n",
    "\n",
    "- iii. Submit the pre-processed data in CSV format.\n"
   ]
  },
  {
   "cell_type": "code",
   "execution_count": 1,
   "id": "56aa1e0b",
   "metadata": {},
   "outputs": [],
   "source": [
    "import numpy as np\n",
    "import pandas as pd\n",
    "\n",
    "from sklearn.tree import DecisionTreeClassifier\n",
    "from sklearn.metrics import classification_report, confusion_matrix, accuracy_score\n",
    "from sklearn.model_selection import cross_validate"
   ]
  },
  {
   "cell_type": "markdown",
   "id": "444afe54",
   "metadata": {},
   "source": [
    "### Read CSV File"
   ]
  },
  {
   "cell_type": "code",
   "execution_count": 2,
   "id": "51e2fdb0",
   "metadata": {},
   "outputs": [],
   "source": [
    "csv_path = r'https://raw.githubusercontent.com/Jordwy/Data-Mining-Assessment-1/2bdb43446ec7dff44be25115218c017c9ab09b75/Assignment%201%20Data.csv'\n",
    "\n",
    "df = pd.read_csv(csv_path)"
   ]
  },
  {
   "cell_type": "code",
   "execution_count": null,
   "id": "496c56dc",
   "metadata": {},
   "outputs": [
    {
     "data": {
      "application/vnd.microsoft.datawrangler.viewer.v0+json": {
       "columns": [
        {
         "name": "index",
         "rawType": "object",
         "type": "string"
        },
        {
         "name": "Default",
         "rawType": "float64",
         "type": "float"
        },
        {
         "name": "duration",
         "rawType": "float64",
         "type": "float"
        },
        {
         "name": "amount",
         "rawType": "float64",
         "type": "float"
        },
        {
         "name": "residence",
         "rawType": "float64",
         "type": "float"
        },
        {
         "name": "age",
         "rawType": "float64",
         "type": "float"
        },
        {
         "name": "cards",
         "rawType": "float64",
         "type": "float"
        },
        {
         "name": "liable",
         "rawType": "float64",
         "type": "float"
        }
       ],
       "ref": "6e49a883-b3de-4328-bff3-2c3d009e3bb7",
       "rows": [
        [
         "count",
         "1000.0",
         "995.0",
         "984.0",
         "1000.0",
         "998.0",
         "996.0",
         "997.0"
        ],
        [
         "mean",
         "0.3",
         "20.884422110552762",
         "3263.087398373984",
         "2.845",
         "35.53707414829659",
         "1.4076305220883534",
         "1.1554663991975929"
        ],
        [
         "std",
         "0.4584868702702512",
         "12.069454792018279",
         "2830.6970115492827",
         "1.1037178956568536",
         "11.379481801678722",
         "0.5780768741215124",
         "0.36253058051924336"
        ],
        [
         "min",
         "0.0",
         "4.0",
         "250.0",
         "1.0",
         "19.0",
         "1.0",
         "1.0"
        ],
        [
         "25%",
         "0.0",
         "12.0",
         "1363.25",
         "2.0",
         "27.0",
         "1.0",
         "1.0"
        ],
        [
         "50%",
         "0.0",
         "18.0",
         "2302.5",
         "3.0",
         "33.0",
         "1.0",
         "1.0"
        ],
        [
         "75%",
         "1.0",
         "24.0",
         "3965.25",
         "4.0",
         "42.0",
         "2.0",
         "1.0"
        ],
        [
         "max",
         "1.0",
         "72.0",
         "18424.0",
         "4.0",
         "75.0",
         "4.0",
         "2.0"
        ]
       ],
       "shape": {
        "columns": 7,
        "rows": 8
       }
      },
      "text/html": [
       "<div>\n",
       "<style scoped>\n",
       "    .dataframe tbody tr th:only-of-type {\n",
       "        vertical-align: middle;\n",
       "    }\n",
       "\n",
       "    .dataframe tbody tr th {\n",
       "        vertical-align: top;\n",
       "    }\n",
       "\n",
       "    .dataframe thead th {\n",
       "        text-align: right;\n",
       "    }\n",
       "</style>\n",
       "<table border=\"1\" class=\"dataframe\">\n",
       "  <thead>\n",
       "    <tr style=\"text-align: right;\">\n",
       "      <th></th>\n",
       "      <th>Default</th>\n",
       "      <th>duration</th>\n",
       "      <th>amount</th>\n",
       "      <th>residence</th>\n",
       "      <th>age</th>\n",
       "      <th>cards</th>\n",
       "      <th>liable</th>\n",
       "    </tr>\n",
       "  </thead>\n",
       "  <tbody>\n",
       "    <tr>\n",
       "      <th>count</th>\n",
       "      <td>1000.000000</td>\n",
       "      <td>995.000000</td>\n",
       "      <td>984.000000</td>\n",
       "      <td>1000.000000</td>\n",
       "      <td>998.000000</td>\n",
       "      <td>996.000000</td>\n",
       "      <td>997.000000</td>\n",
       "    </tr>\n",
       "    <tr>\n",
       "      <th>mean</th>\n",
       "      <td>0.300000</td>\n",
       "      <td>20.884422</td>\n",
       "      <td>3263.087398</td>\n",
       "      <td>2.845000</td>\n",
       "      <td>35.537074</td>\n",
       "      <td>1.407631</td>\n",
       "      <td>1.155466</td>\n",
       "    </tr>\n",
       "    <tr>\n",
       "      <th>std</th>\n",
       "      <td>0.458487</td>\n",
       "      <td>12.069455</td>\n",
       "      <td>2830.697012</td>\n",
       "      <td>1.103718</td>\n",
       "      <td>11.379482</td>\n",
       "      <td>0.578077</td>\n",
       "      <td>0.362531</td>\n",
       "    </tr>\n",
       "    <tr>\n",
       "      <th>min</th>\n",
       "      <td>0.000000</td>\n",
       "      <td>4.000000</td>\n",
       "      <td>250.000000</td>\n",
       "      <td>1.000000</td>\n",
       "      <td>19.000000</td>\n",
       "      <td>1.000000</td>\n",
       "      <td>1.000000</td>\n",
       "    </tr>\n",
       "    <tr>\n",
       "      <th>25%</th>\n",
       "      <td>0.000000</td>\n",
       "      <td>12.000000</td>\n",
       "      <td>1363.250000</td>\n",
       "      <td>2.000000</td>\n",
       "      <td>27.000000</td>\n",
       "      <td>1.000000</td>\n",
       "      <td>1.000000</td>\n",
       "    </tr>\n",
       "    <tr>\n",
       "      <th>50%</th>\n",
       "      <td>0.000000</td>\n",
       "      <td>18.000000</td>\n",
       "      <td>2302.500000</td>\n",
       "      <td>3.000000</td>\n",
       "      <td>33.000000</td>\n",
       "      <td>1.000000</td>\n",
       "      <td>1.000000</td>\n",
       "    </tr>\n",
       "    <tr>\n",
       "      <th>75%</th>\n",
       "      <td>1.000000</td>\n",
       "      <td>24.000000</td>\n",
       "      <td>3965.250000</td>\n",
       "      <td>4.000000</td>\n",
       "      <td>42.000000</td>\n",
       "      <td>2.000000</td>\n",
       "      <td>1.000000</td>\n",
       "    </tr>\n",
       "    <tr>\n",
       "      <th>max</th>\n",
       "      <td>1.000000</td>\n",
       "      <td>72.000000</td>\n",
       "      <td>18424.000000</td>\n",
       "      <td>4.000000</td>\n",
       "      <td>75.000000</td>\n",
       "      <td>4.000000</td>\n",
       "      <td>2.000000</td>\n",
       "    </tr>\n",
       "  </tbody>\n",
       "</table>\n",
       "</div>"
      ],
      "text/plain": [
       "           Default    duration        amount    residence         age  \\\n",
       "count  1000.000000  995.000000    984.000000  1000.000000  998.000000   \n",
       "mean      0.300000   20.884422   3263.087398     2.845000   35.537074   \n",
       "std       0.458487   12.069455   2830.697012     1.103718   11.379482   \n",
       "min       0.000000    4.000000    250.000000     1.000000   19.000000   \n",
       "25%       0.000000   12.000000   1363.250000     2.000000   27.000000   \n",
       "50%       0.000000   18.000000   2302.500000     3.000000   33.000000   \n",
       "75%       1.000000   24.000000   3965.250000     4.000000   42.000000   \n",
       "max       1.000000   72.000000  18424.000000     4.000000   75.000000   \n",
       "\n",
       "            cards      liable  \n",
       "count  996.000000  997.000000  \n",
       "mean     1.407631    1.155466  \n",
       "std      0.578077    0.362531  \n",
       "min      1.000000    1.000000  \n",
       "25%      1.000000    1.000000  \n",
       "50%      1.000000    1.000000  \n",
       "75%      2.000000    1.000000  \n",
       "max      4.000000    2.000000  "
      ]
     },
     "execution_count": 5,
     "metadata": {},
     "output_type": "execute_result"
    }
   ],
   "source": [
    "df.shape()"
   ]
  }
 ],
 "metadata": {
  "kernelspec": {
   "display_name": ".venv (3.12.2)",
   "language": "python",
   "name": "python3"
  },
  "language_info": {
   "codemirror_mode": {
    "name": "ipython",
    "version": 3
   },
   "file_extension": ".py",
   "mimetype": "text/x-python",
   "name": "python",
   "nbconvert_exporter": "python",
   "pygments_lexer": "ipython3",
   "version": "3.12.2"
  }
 },
 "nbformat": 4,
 "nbformat_minor": 5
}
