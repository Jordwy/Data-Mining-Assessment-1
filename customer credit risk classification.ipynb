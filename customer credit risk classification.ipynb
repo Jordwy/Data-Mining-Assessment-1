{
 "cells": [
  {
   "cell_type": "markdown",
   "id": "74e8d175",
   "metadata": {},
   "source": [
    "## Explore, aggregate and transform the attributes (1.5 marks) \n",
    "- i. Write a Python script to read the input CSV file and perform any necessary pre-processing so that the data becomes suitable to be used.\n",
    "\n",
    "- ii.  Describe the pre-processing you carried out with justifications in your report.\n",
    "    \n",
    "\n",
    "    (Hint: Think about missing values and categorical attributes. \n",
    "    How to deal with them? \n",
    "    Should we turn them all into dummies? \n",
    "    Use only some? \n",
    "    Create new informative attributes by aggregating some attributes? \n",
    "    And so on.)\n",
    "\n",
    "- iii. Submit the pre-processed data in CSV format.\n"
   ]
  },
  {
   "cell_type": "code",
   "execution_count": 1,
   "id": "56aa1e0b",
   "metadata": {},
   "outputs": [],
   "source": [
    "import numpy as np\n",
    "import pandas as pd\n",
    "\n",
    "from sklearn.tree import DecisionTreeClassifier\n",
    "from sklearn.metrics import classification_report, confusion_matrix, accuracy_score\n",
    "from sklearn.model_selection import cross_validate"
   ]
  },
  {
   "cell_type": "markdown",
   "id": "444afe54",
   "metadata": {},
   "source": [
    "### Read CSV File"
   ]
  },
  {
   "cell_type": "code",
   "execution_count": null,
   "id": "51e2fdb0",
   "metadata": {},
   "outputs": [],
   "source": [
    "csv_path = r'https://raw.githubusercontent.com/Jordwy/Data-Mining-Assessment-1/refs/heads/main/Assignment%201%20Data.csv?token=GHSAT0AAAAAADMBX6LDGYTY2NDXWDX7DU6W2GY2X5A'\n",
    "\n",
    "df = pd.read_csv(csv_path)"
   ]
  },
  {
   "cell_type": "code",
   "execution_count": null,
   "id": "4423dfc3",
   "metadata": {},
   "outputs": [],
   "source": []
  }
 ],
 "metadata": {
  "kernelspec": {
   "display_name": ".venv (3.12.2)",
   "language": "python",
   "name": "python3"
  },
  "language_info": {
   "codemirror_mode": {
    "name": "ipython",
    "version": 3
   },
   "file_extension": ".py",
   "mimetype": "text/x-python",
   "name": "python",
   "nbconvert_exporter": "python",
   "pygments_lexer": "ipython3",
   "version": "3.12.2"
  }
 },
 "nbformat": 4,
 "nbformat_minor": 5
}
