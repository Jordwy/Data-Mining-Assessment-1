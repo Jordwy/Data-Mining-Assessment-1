{
 "cells": [
  {
   "cell_type": "markdown",
   "id": "74e8d175",
   "metadata": {},
   "source": [
    "## Explore, aggregate and transform the attributes (1.5 marks) \n",
    "- i. Write a Python script to read the input CSV file and perform any necessary pre-processing so that the data becomes suitable to be used.\n",
    "\n",
    "- ii.  Describe the pre-processing you carried out with justifications in your report.\n",
    "    \n",
    "\n",
    "    (Hint: Think about missing values and categorical attributes. \n",
    "    How to deal with them? \n",
    "    Should we turn them all into dummies? \n",
    "    Use only some? \n",
    "    Create new informative attributes by aggregating some attributes? \n",
    "    And so on.)\n",
    "\n",
    "- iii. Submit the pre-processed data in CSV format.\n"
   ]
  },
  {
   "cell_type": "code",
   "execution_count": 1,
   "id": "56aa1e0b",
   "metadata": {},
   "outputs": [],
   "source": [
    "import numpy as np\n",
    "import pandas as pd\n",
    "\n",
    "from sklearn.tree import DecisionTreeClassifier\n",
    "from sklearn.metrics import classification_report, confusion_matrix, accuracy_score\n",
    "from sklearn.model_selection import cross_validate"
   ]
  },
  {
   "cell_type": "markdown",
   "id": "444afe54",
   "metadata": {},
   "source": [
    "### Read CSV File"
   ]
  },
  {
   "cell_type": "code",
   "execution_count": 2,
   "id": "51e2fdb0",
   "metadata": {},
   "outputs": [],
   "source": [
    "csv_path = r'https://raw.githubusercontent.com/Jordwy/Data-Mining-Assessment-1/2bdb43446ec7dff44be25115218c017c9ab09b75/Assignment%201%20Data.csv'\n",
    "\n",
    "df = pd.read_csv(csv_path)"
   ]
  },
  {
   "cell_type": "code",
   "execution_count": 9,
   "id": "496c56dc",
   "metadata": {},
   "outputs": [
    {
     "name": "stdout",
     "output_type": "stream",
     "text": [
      "<class 'pandas.core.frame.DataFrame'>\n",
      "RangeIndex: 1000 entries, 0 to 999\n",
      "Data columns (total 19 columns):\n",
      " #   Column           Non-Null Count  Dtype  \n",
      "---  ------           --------------  -----  \n",
      " 0   Default          1000 non-null   int64  \n",
      " 1   checkingstatus1  1000 non-null   object \n",
      " 2   duration         995 non-null    float64\n",
      " 3   history          996 non-null    object \n",
      " 4   purpose          987 non-null    object \n",
      " 5   amount           984 non-null    float64\n",
      " 6   savings          995 non-null    object \n",
      " 7   employ           990 non-null    object \n",
      " 8   status           993 non-null    object \n",
      " 9   others           994 non-null    object \n",
      " 10  residence        1000 non-null   int64  \n",
      " 11  property         992 non-null    object \n",
      " 12  age              998 non-null    float64\n",
      " 13  otherplans       1000 non-null   object \n",
      " 14  housing          994 non-null    object \n",
      " 15  cards            996 non-null    float64\n",
      " 16  job              991 non-null    object \n",
      " 17  liable           997 non-null    float64\n",
      " 18  foreign          988 non-null    object \n",
      "dtypes: float64(5), int64(2), object(12)\n",
      "memory usage: 148.6+ KB\n"
     ]
    }
   ],
   "source": [
    "df.info()"
   ]
  },
  {
   "cell_type": "code",
   "execution_count": null,
   "id": "994c5c76",
   "metadata": {},
   "outputs": [
    {
     "data": {
      "text/plain": [
       "' Column Info and null count\\n\\n #   Column           Non-Null Count  Dtype  \\n---  ------           --------------  -----  \\n 0   Default          1000 non-null   int64         # class label\\n 1   checkingstatus1  1000 non-null   object        # No null\\n 2   duration         995 non-null    float64       # 5 nulls - replace with mean value\\n 3   history          996 non-null    object        # 4 null - remove them as assume this is important\\n 4   purpose          987 non-null    object        # 13 null - fill null with \\'A410\\' which means \"others\" as not sure important \\n 5   amount           984 non-null    float64       # 16 null - remove them as assume this is important\\n 6   savings          995 non-null    object        # 5 null - replace with \\'A65\\' which means \"unknown/no savings account\"\"unknown/no savings account\\n 7   employ           990 non-null    object        # 10 null - \\n 8   status           993 non-null    object        # 7 null -\\n 9   others           994 non-null    object        # 6 null - \\n 10  residence        1000 non-null   int64         # No null -\\n 11  property         992 non-null    object        # 8 null -\\n 12  age              998 non-null    float64       # 2 null -\\n 13  otherplans       1000 non-null   object        # No null -\\n 14  housing          994 non-null    object        # 6 null -\\n 15  cards            996 non-null    float64       # 4 null -\\n 16  job              991 non-null    object        # 9 null -\\n 17  liable           997 non-null    float64       # 3 null -\\n 18  foreign          988 non-null    object        # 12 null -\\n'"
      ]
     },
     "execution_count": 10,
     "metadata": {},
     "output_type": "execute_result"
    }
   ],
   "source": [
    "''' Column Info and null count\n",
    "\n",
    "    Review of how to handle each attribute when there are missing values\n",
    "\n",
    " #   Column           Non-Null Count  Dtype  \n",
    "---  ------           --------------  -----  \n",
    " 0   Default          1000 non-null   int64         # class label\n",
    " 1   checkingstatus1  1000 non-null   object        # No null\n",
    " 2   duration         995 non-null    float64       # 5 nulls - replace with mean value\n",
    " 3   history          996 non-null    object        # 4 null - remove them as assume this is important\n",
    " 4   purpose          987 non-null    object        # 13 null - fill null with 'A410' which means \"others\" as not sure important \n",
    " 5   amount           984 non-null    float64       # 16 null - remove them as assume this is important\n",
    " 6   savings          995 non-null    object        # 5 null - replace with 'A65' which means \"unknown/no savings account\"\"unknown/no savings account\n",
    " 7   employ           990 non-null    object        # 10 null - remove them as assume this is important\n",
    " 8   status           993 non-null    object        # 7 null - remove them as see no other appropriate way to fill\n",
    " 9   others           994 non-null    object        # 6 null - \n",
    " 10  residence        1000 non-null   int64         # No null -\n",
    " 11  property         992 non-null    object        # 8 null -\n",
    " 12  age              998 non-null    float64       # 2 null -\n",
    " 13  otherplans       1000 non-null   object        # No null -\n",
    " 14  housing          994 non-null    object        # 6 null -\n",
    " 15  cards            996 non-null    float64       # 4 null -\n",
    " 16  job              991 non-null    object        # 9 null -\n",
    " 17  liable           997 non-null    float64       # 3 null -\n",
    " 18  foreign          988 non-null    object        # 12 null -\n",
    "\n",
    "'''\n",
    "\n"
   ]
  },
  {
   "cell_type": "code",
   "execution_count": 13,
   "id": "df443904",
   "metadata": {},
   "outputs": [
    {
     "data": {
      "text/plain": [
       "{'_is_copy': None,\n",
       " '_mgr': SingleBlockManager\n",
       " Items: Index(['A101', 'A103', 'A102'], dtype='object', name='others')\n",
       " NumpyBlock: 3 dtype: int64,\n",
       " '_item_cache': {},\n",
       " '_attrs': {},\n",
       " '_flags': <Flags(allows_duplicate_labels=True)>,\n",
       " '_name': 'count'}"
      ]
     },
     "execution_count": 13,
     "metadata": {},
     "output_type": "execute_result"
    }
   ],
   "source": [
    "df['others'].value_counts().__dict__"
   ]
  }
 ],
 "metadata": {
  "kernelspec": {
   "display_name": ".venv (3.12.2)",
   "language": "python",
   "name": "python3"
  },
  "language_info": {
   "codemirror_mode": {
    "name": "ipython",
    "version": 3
   },
   "file_extension": ".py",
   "mimetype": "text/x-python",
   "name": "python",
   "nbconvert_exporter": "python",
   "pygments_lexer": "ipython3",
   "version": "3.12.2"
  }
 },
 "nbformat": 4,
 "nbformat_minor": 5
}
