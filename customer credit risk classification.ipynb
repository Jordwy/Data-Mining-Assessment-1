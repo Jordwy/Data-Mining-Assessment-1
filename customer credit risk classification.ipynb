{
 "cells": [
  {
   "cell_type": "markdown",
   "id": "74e8d175",
   "metadata": {},
   "source": [
    "## Explore, aggregate and transform the attributes (1.5 marks) \n",
    "- i. Write a Python script to read the input CSV file and perform any necessary pre-processing so that the data becomes suitable to be used.\n",
    "\n",
    "- ii.  Describe the pre-processing you carried out with justifications in your report.\n",
    "    \n",
    "\n",
    "    (Hint: Think about missing values and categorical attributes. \n",
    "    How to deal with them? \n",
    "    Should we turn them all into dummies? \n",
    "    Use only some? Create new informative attributes by aggregating some attributes? And so on.)\n",
    "\n",
    "- iii. Submit the pre-processed data in CSV format.\n"
   ]
  }
 ],
 "metadata": {
  "language_info": {
   "name": "python"
  }
 },
 "nbformat": 4,
 "nbformat_minor": 5
}
