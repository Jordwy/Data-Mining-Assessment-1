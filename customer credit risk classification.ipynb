{
 "cells": [
  {
   "cell_type": "markdown",
   "id": "74e8d175",
   "metadata": {},
   "source": [
    "## Explore, aggregate and transform the attributes (1.5 marks)\n",
    "\n",
    "i. Write a Python script to read the input CSV file and perform any necessary pre-processing so that the data becomes suitable to be used.\n",
    "ii. Describe the pre-processing you carried out with justifications in your report.\n",
    "\n",
    "(Hint: Think about missing values and categorical attributes. How to deal with them? Should we turn them all into dummies? Use only some? Create new informative attributes by aggregating some attributes? And so on.)\n",
    "Submit the pre-processed data in CSV format."
   ]
  }
 ],
 "metadata": {
  "language_info": {
   "name": "python"
  }
 },
 "nbformat": 4,
 "nbformat_minor": 5
}
