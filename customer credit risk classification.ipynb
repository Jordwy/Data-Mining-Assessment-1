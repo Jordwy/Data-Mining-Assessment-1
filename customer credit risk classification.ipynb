{
 "cells": [
  {
   "cell_type": "markdown",
   "id": "74e8d175",
   "metadata": {},
   "source": [
    "## Explore, aggregate and transform the attributes (1.5 marks) \n",
    "- i. Write a Python script to read the input CSV file and perform any necessary pre-processing so that the data becomes suitable to be used.\n",
    "\n",
    "- ii.  Describe the pre-processing you carried out with justifications in your report.\n",
    "    \n",
    "\n",
    "    (Hint: Think about missing values and categorical attributes. \n",
    "    How to deal with them? \n",
    "    Should we turn them all into dummies? \n",
    "    Use only some? \n",
    "    Create new informative attributes by aggregating some attributes? \n",
    "    And so on.)\n",
    "\n",
    "- iii. Submit the pre-processed data in CSV format.\n"
   ]
  },
  {
   "cell_type": "code",
   "execution_count": 1,
   "id": "56aa1e0b",
   "metadata": {},
   "outputs": [],
   "source": [
    "import numpy as np\n",
    "import pandas as pd\n",
    "\n",
    "from sklearn.tree import DecisionTreeClassifier\n",
    "from sklearn.metrics import classification_report, confusion_matrix, accuracy_score\n",
    "from sklearn.model_selection import cross_validate"
   ]
  },
  {
   "cell_type": "markdown",
   "id": "444afe54",
   "metadata": {},
   "source": [
    "### Read CSV File"
   ]
  },
  {
   "cell_type": "code",
   "execution_count": 2,
   "id": "51e2fdb0",
   "metadata": {},
   "outputs": [],
   "source": [
    "csv_path = r'https://raw.githubusercontent.com/Jordwy/Data-Mining-Assessment-1/2bdb43446ec7dff44be25115218c017c9ab09b75/Assignment%201%20Data.csv'\n",
    "\n",
    "df = pd.read_csv(csv_path)"
   ]
  },
  {
   "cell_type": "code",
   "execution_count": null,
   "id": "496c56dc",
   "metadata": {},
   "outputs": [
    {
     "data": {
      "application/vnd.microsoft.datawrangler.viewer.v0+json": {
       "columns": [
        {
         "name": "('Default', 'checkingstatus1', 'duration', 'history', 'purpose', 'amount', 'savings', 'employ', 'status', 'others', 'residence', 'property', 'age', 'otherplans', 'housing', 'cards', 'job', 'liable', 'foreign')",
         "rawType": "object",
         "type": "unknown"
        },
        {
         "name": "count",
         "rawType": "int64",
         "type": "integer"
        }
       ],
       "ref": "e5903980-9857-4a2f-a713-c5000687ab96",
       "rows": [
        [
         "(np.int64(0), 'A11', np.float64(6.0), 'A32', 'A40', np.float64(662.0), 'A61', 'A72', 'A93', 'A101', np.int64(4), 'A121', np.float64(41.0), 'A143', 'A152', np.float64(1.0), 'A172', np.float64(2.0), 'A201')",
         "1"
        ],
        [
         "(np.int64(0), 'A11', np.float64(6.0), 'A32', 'A40', np.float64(1203.0), 'A62', 'A75', 'A93', 'A101', np.int64(2), 'A122', np.float64(43.0), 'A143', 'A152', np.float64(1.0), 'A173', np.float64(1.0), 'A201')",
         "1"
        ],
        [
         "(np.int64(0), 'A11', np.float64(6.0), 'A32', 'A40', np.float64(1374.0), 'A65', 'A71', 'A92', 'A101', np.int64(3), 'A122', np.float64(75.0), 'A143', 'A152', np.float64(1.0), 'A174', np.float64(1.0), 'A201')",
         "1"
        ],
        [
         "(np.int64(0), 'A11', np.float64(6.0), 'A32', 'A41', np.float64(1352.0), 'A63', 'A71', 'A92', 'A101', np.int64(2), 'A122', np.float64(23.0), 'A143', 'A151', np.float64(1.0), 'A171', np.float64(1.0), 'A201')",
         "1"
        ],
        [
         "(np.int64(0), 'A11', np.float64(6.0), 'A32', 'A42', np.float64(428.0), 'A61', 'A75', 'A92', 'A101', np.int64(1), 'A122', np.float64(49.0), 'A141', 'A152', np.float64(1.0), 'A173', np.float64(1.0), 'A201')",
         "1"
        ],
        [
         "(np.int64(0), 'A11', np.float64(6.0), 'A32', 'A44', np.float64(343.0), 'A61', 'A72', 'A92', 'A101', np.int64(1), 'A121', np.float64(27.0), 'A143', 'A152', np.float64(1.0), 'A173', np.float64(1.0), 'A201')",
         "1"
        ],
        [
         "(np.int64(0), 'A11', np.float64(6.0), 'A34', 'A40', np.float64(609.0), 'A61', 'A74', 'A92', 'A101', np.int64(3), 'A122', np.float64(37.0), 'A143', 'A152', np.float64(2.0), 'A173', np.float64(1.0), 'A202')",
         "1"
        ],
        [
         "(np.int64(0), 'A11', np.float64(6.0), 'A34', 'A40', np.float64(666.0), 'A64', 'A74', 'A92', 'A101', np.int64(4), 'A121', np.float64(39.0), 'A143', 'A152', np.float64(2.0), 'A172', np.float64(1.0), 'A201')",
         "1"
        ],
        [
         "(np.int64(0), 'A11', np.float64(6.0), 'A34', 'A40', np.float64(860.0), 'A61', 'A75', 'A92', 'A101', np.int64(4), 'A124', np.float64(39.0), 'A143', 'A152', np.float64(2.0), 'A173', np.float64(1.0), 'A201')",
         "1"
        ],
        [
         "(np.int64(0), 'A11', np.float64(6.0), 'A34', 'A40', np.float64(1361.0), 'A61', 'A72', 'A93', 'A101', np.int64(4), 'A121', np.float64(40.0), 'A143', 'A152', np.float64(1.0), 'A172', np.float64(2.0), 'A202')",
         "1"
        ],
        [
         "(np.int64(0), 'A11', np.float64(6.0), 'A34', 'A40', np.float64(3676.0), 'A61', 'A73', 'A93', 'A101', np.int64(3), 'A121', np.float64(37.0), 'A143', 'A151', np.float64(3.0), 'A173', np.float64(2.0), 'A201')",
         "1"
        ],
        [
         "(np.int64(0), 'A11', np.float64(6.0), 'A34', 'A40', np.float64(4716.0), 'A65', 'A72', 'A93', 'A101', np.int64(3), 'A121', np.float64(44.0), 'A143', 'A152', np.float64(2.0), 'A172', np.float64(2.0), 'A201')",
         "1"
        ],
        [
         "(np.int64(0), 'A11', np.float64(6.0), 'A34', 'A42', np.float64(1872.0), 'A61', 'A71', 'A93', 'A101', np.int64(4), 'A124', np.float64(36.0), 'A143', 'A153', np.float64(3.0), 'A174', np.float64(1.0), 'A201')",
         "1"
        ],
        [
         "(np.int64(0), 'A11', np.float64(6.0), 'A34', 'A43', np.float64(338.0), 'A63', 'A75', 'A93', 'A101', np.int64(4), 'A123', np.float64(52.0), 'A143', 'A152', np.float64(2.0), 'A173', np.float64(1.0), 'A201')",
         "1"
        ],
        [
         "(np.int64(0), 'A11', np.float64(6.0), 'A34', 'A43', np.float64(1169.0), 'A65', 'A75', 'A93', 'A101', np.int64(4), 'A121', np.float64(67.0), 'A143', 'A152', np.float64(2.0), 'A173', np.float64(1.0), 'A201')",
         "1"
        ],
        [
         "(np.int64(0), 'A11', np.float64(6.0), 'A34', 'A43', np.float64(1957.0), 'A61', 'A74', 'A92', 'A101', np.int64(4), 'A123', np.float64(31.0), 'A143', 'A152', np.float64(1.0), 'A173', np.float64(1.0), 'A201')",
         "1"
        ],
        [
         "(np.int64(0), 'A11', np.float64(8.0), 'A34', 'A40', np.float64(731.0), 'A61', 'A75', 'A93', 'A101', np.int64(4), 'A121', np.float64(47.0), 'A143', 'A152', np.float64(2.0), 'A172', np.float64(1.0), 'A201')",
         "1"
        ],
        [
         "(np.int64(0), 'A11', np.float64(8.0), 'A34', 'A40', np.float64(3398.0), 'A61', 'A74', 'A93', 'A101', np.int64(4), 'A121', np.float64(39.0), 'A143', 'A152', np.float64(2.0), 'A172', np.float64(1.0), 'A202')",
         "1"
        ],
        [
         "(np.int64(0), 'A11', np.float64(8.0), 'A34', 'A410', np.float64(1164.0), 'A61', 'A75', 'A93', 'A101', np.int64(4), 'A124', np.float64(51.0), 'A141', 'A153', np.float64(2.0), 'A174', np.float64(2.0), 'A201')",
         "1"
        ],
        [
         "(np.int64(0), 'A11', np.float64(9.0), 'A32', 'A42', np.float64(2136.0), 'A61', 'A73', 'A93', 'A101', np.int64(2), 'A121', np.float64(25.0), 'A143', 'A152', np.float64(1.0), 'A173', np.float64(1.0), 'A201')",
         "1"
        ],
        [
         "(np.int64(0), 'A11', np.float64(9.0), 'A32', 'A43', np.float64(1364.0), 'A61', 'A74', 'A93', 'A101', np.int64(4), 'A121', np.float64(59.0), 'A143', 'A152', np.float64(1.0), 'A173', np.float64(1.0), 'A201')",
         "1"
        ],
        [
         "(np.int64(0), 'A11', np.float64(9.0), 'A34', 'A40', np.float64(2799.0), 'A61', 'A73', 'A93', 'A101', np.int64(2), 'A121', np.float64(36.0), 'A143', 'A151', np.float64(2.0), 'A173', np.float64(2.0), 'A201')",
         "1"
        ],
        [
         "(np.int64(0), 'A11', np.float64(9.0), 'A34', 'A43', np.float64(1138.0), 'A61', 'A73', 'A93', 'A101', np.int64(4), 'A121', np.float64(25.0), 'A143', 'A152', np.float64(2.0), 'A172', np.float64(1.0), 'A201')",
         "1"
        ],
        [
         "(np.int64(0), 'A11', np.float64(9.0), 'A34', 'A45', np.float64(1288.0), 'A62', 'A75', 'A93', 'A103', np.int64(4), 'A121', np.float64(48.0), 'A143', 'A152', np.float64(2.0), 'A173', np.float64(2.0), 'A202')",
         "1"
        ],
        [
         "(np.int64(0), 'A11', np.float64(10.0), 'A34', 'A40', np.float64(1038.0), 'A61', 'A74', 'A93', 'A102', np.int64(3), 'A122', np.float64(49.0), 'A143', 'A152', np.float64(2.0), 'A173', np.float64(1.0), 'A201')",
         "1"
        ],
        [
         "(np.int64(0), 'A11', np.float64(10.0), 'A34', 'A42', np.float64(2132.0), 'A65', 'A72', 'A92', 'A102', np.int64(3), 'A121', np.float64(27.0), 'A143', 'A151', np.float64(2.0), 'A173', np.float64(1.0), 'A202')",
         "1"
        ],
        [
         "(np.int64(0), 'A11', np.float64(11.0), 'A34', 'A40', np.float64(3939.0), 'A61', 'A73', 'A93', 'A101', np.int64(2), 'A121', np.float64(40.0), 'A143', 'A152', np.float64(2.0), 'A172', np.float64(2.0), 'A201')",
         "1"
        ],
        [
         "(np.int64(0), 'A11', np.float64(12.0), 'A31', 'A48', np.float64(339.0), 'A61', 'A75', 'A94', 'A101', np.int64(1), 'A123', np.float64(45.0), 'A141', 'A152', np.float64(1.0), 'A172', np.float64(1.0), 'A201')",
         "1"
        ],
        [
         "(np.int64(0), 'A11', np.float64(12.0), 'A32', 'A40', np.float64(1168.0), 'A61', 'A73', 'A94', 'A101', np.int64(3), 'A121', np.float64(27.0), 'A143', 'A152', np.float64(1.0), 'A172', np.float64(1.0), 'A201')",
         "1"
        ],
        [
         "(np.int64(0), 'A11', np.float64(12.0), 'A32', 'A40', np.float64(3651.0), 'A64', 'A73', 'A93', 'A101', np.int64(3), 'A122', np.float64(31.0), 'A143', 'A152', np.float64(1.0), 'A173', np.float64(2.0), 'A201')",
         "1"
        ],
        [
         "(np.int64(0), 'A11', np.float64(12.0), 'A32', 'A42', np.float64(708.0), 'A61', 'A73', 'A93', 'A103', np.int64(3), 'A122', np.float64(38.0), 'A143', 'A152', np.float64(1.0), 'A172', np.float64(2.0), 'A201')",
         "1"
        ],
        [
         "(np.int64(0), 'A11', np.float64(12.0), 'A32', 'A42', np.float64(1262.0), 'A65', 'A75', 'A91', 'A101', np.int64(4), 'A122', np.float64(49.0), 'A143', 'A152', np.float64(1.0), 'A172', np.float64(1.0), 'A201')",
         "1"
        ],
        [
         "(np.int64(0), 'A11', np.float64(12.0), 'A32', 'A42', np.float64(1289.0), 'A61', 'A73', 'A93', 'A103', np.int64(1), 'A122', np.float64(21.0), 'A143', 'A152', np.float64(1.0), 'A172', np.float64(1.0), 'A201')",
         "1"
        ],
        [
         "(np.int64(0), 'A11', np.float64(12.0), 'A32', 'A42', np.float64(1620.0), 'A61', 'A73', 'A92', 'A102', np.int64(3), 'A122', np.float64(30.0), 'A143', 'A152', np.float64(1.0), 'A173', np.float64(1.0), 'A201')",
         "1"
        ],
        [
         "(np.int64(0), 'A11', np.float64(12.0), 'A32', 'A42', np.float64(1657.0), 'A61', 'A73', 'A93', 'A101', np.int64(2), 'A121', np.float64(27.0), 'A143', 'A152', np.float64(1.0), 'A173', np.float64(1.0), 'A201')",
         "1"
        ],
        [
         "(np.int64(0), 'A11', np.float64(12.0), 'A32', 'A42', np.float64(1858.0), 'A61', 'A72', 'A92', 'A101', np.int64(1), 'A123', np.float64(22.0), 'A143', 'A151', np.float64(1.0), 'A173', np.float64(1.0), 'A201')",
         "1"
        ],
        [
         "(np.int64(0), 'A11', np.float64(12.0), 'A32', 'A42', np.float64(2577.0), 'A61', 'A73', 'A91', 'A101', np.int64(1), 'A123', np.float64(42.0), 'A143', 'A152', np.float64(1.0), 'A173', np.float64(1.0), 'A201')",
         "1"
        ],
        [
         "(np.int64(0), 'A11', np.float64(12.0), 'A32', 'A42', np.float64(2578.0), 'A61', 'A71', 'A92', 'A101', np.int64(4), 'A124', np.float64(55.0), 'A143', 'A153', np.float64(1.0), 'A174', np.float64(1.0), 'A201')",
         "1"
        ],
        [
         "(np.int64(0), 'A11', np.float64(12.0), 'A32', 'A42', np.float64(3590.0), 'A61', 'A73', 'A93', 'A102', np.int64(2), 'A122', np.float64(29.0), 'A143', 'A152', np.float64(1.0), 'A172', np.float64(2.0), 'A201')",
         "1"
        ],
        [
         "(np.int64(0), 'A11', np.float64(12.0), 'A32', 'A43', np.float64(701.0), 'A61', 'A73', 'A94', 'A101', np.int64(2), 'A121', np.float64(40.0), 'A143', 'A152', np.float64(1.0), 'A172', np.float64(1.0), 'A201')",
         "1"
        ],
        [
         "(np.int64(0), 'A11', np.float64(12.0), 'A32', 'A43', np.float64(1107.0), 'A61', 'A73', 'A93', 'A101', np.int64(2), 'A121', np.float64(20.0), 'A143', 'A151', np.float64(1.0), 'A174', np.float64(2.0), 'A201')",
         "1"
        ],
        [
         "(np.int64(0), 'A11', np.float64(12.0), 'A32', 'A43', np.float64(1498.0), 'A61', 'A73', 'A92', 'A101', np.int64(1), 'A123', np.float64(23.0), 'A141', 'A152', np.float64(1.0), 'A173', np.float64(1.0), 'A201')",
         "1"
        ],
        [
         "(np.int64(0), 'A11', np.float64(12.0), 'A32', 'A43', np.float64(1680.0), 'A63', 'A75', 'A94', 'A101', np.int64(1), 'A121', np.float64(35.0), 'A143', 'A152', np.float64(1.0), 'A173', np.float64(1.0), 'A201')",
         "1"
        ],
        [
         "(np.int64(0), 'A11', np.float64(12.0), 'A32', 'A43', np.float64(2214.0), 'A61', 'A73', 'A93', 'A101', np.int64(3), 'A122', np.float64(24.0), 'A143', 'A152', np.float64(1.0), 'A172', np.float64(1.0), 'A201')",
         "1"
        ],
        [
         "(np.int64(0), 'A11', np.float64(12.0), 'A32', 'A46', np.float64(1200.0), 'A65', 'A73', 'A92', 'A101', np.int64(4), 'A122', np.float64(23.0), 'A141', 'A151', np.float64(1.0), 'A173', np.float64(1.0), 'A201')",
         "1"
        ],
        [
         "(np.int64(0), 'A11', np.float64(12.0), 'A34', 'A40', np.float64(2121.0), 'A61', 'A73', 'A93', 'A101', np.int64(2), 'A122', np.float64(30.0), 'A143', 'A152', np.float64(2.0), 'A173', np.float64(1.0), 'A201')",
         "1"
        ],
        [
         "(np.int64(0), 'A11', np.float64(12.0), 'A34', 'A40', np.float64(2122.0), 'A61', 'A73', 'A93', 'A101', np.int64(2), 'A121', np.float64(39.0), 'A143', 'A151', np.float64(2.0), 'A172', np.float64(2.0), 'A202')",
         "1"
        ],
        [
         "(np.int64(0), 'A11', np.float64(12.0), 'A34', 'A40', np.float64(2171.0), 'A61', 'A73', 'A93', 'A101', np.int64(4), 'A122', np.float64(38.0), 'A141', 'A152', np.float64(2.0), 'A172', np.float64(1.0), 'A202')",
         "1"
        ],
        [
         "(np.int64(0), 'A11', np.float64(12.0), 'A34', 'A41', np.float64(1409.0), 'A61', 'A75', 'A93', 'A101', np.int64(3), 'A121', np.float64(54.0), 'A143', 'A152', np.float64(1.0), 'A173', np.float64(1.0), 'A201')",
         "1"
        ],
        [
         "(np.int64(0), 'A11', np.float64(12.0), 'A34', 'A41', np.float64(1526.0), 'A61', 'A75', 'A93', 'A101', np.int64(4), 'A124', np.float64(66.0), 'A143', 'A153', np.float64(2.0), 'A174', np.float64(1.0), 'A201')",
         "1"
        ]
       ],
       "shape": {
        "columns": 1,
        "rows": 908
       }
      },
      "text/plain": [
       "Default  checkingstatus1  duration  history  purpose  amount   savings  employ  status  others  residence  property  age   otherplans  housing  cards  job   liable  foreign\n",
       "0        A11              6.0       A32      A40      662.0    A61      A72     A93     A101    4          A121      41.0  A143        A152     1.0    A172  2.0     A201       1\n",
       "                                                      1203.0   A62      A75     A93     A101    2          A122      43.0  A143        A152     1.0    A173  1.0     A201       1\n",
       "                                                      1374.0   A65      A71     A92     A101    3          A122      75.0  A143        A152     1.0    A174  1.0     A201       1\n",
       "                                             A41      1352.0   A63      A71     A92     A101    2          A122      23.0  A143        A151     1.0    A171  1.0     A201       1\n",
       "                                             A42      428.0    A61      A75     A92     A101    1          A122      49.0  A141        A152     1.0    A173  1.0     A201       1\n",
       "                                                                                                                                                                               ..\n",
       "1        A14              36.0      A34      A42      7127.0   A61      A72     A92     A101    4          A122      23.0  A143        A151     2.0    A173  1.0     A201       1\n",
       "                          48.0      A32      A49      3914.0   A65      A73     A91     A101    2          A121      38.0  A141        A152     1.0    A173  1.0     A201       1\n",
       "                                                      4844.0   A61      A71     A93     A101    2          A123      33.0  A141        A151     1.0    A174  1.0     A201       1\n",
       "                                    A34      A40      10127.0  A63      A73     A93     A101    2          A124      44.0  A141        A153     1.0    A173  1.0     A201       1\n",
       "                                             A41      11590.0  A62      A73     A92     A101    4          A123      24.0  A141        A151     2.0    A172  1.0     A201       1\n",
       "Name: count, Length: 908, dtype: int64"
      ]
     },
     "execution_count": 8,
     "metadata": {},
     "output_type": "execute_result"
    }
   ],
   "source": [
    "df."
   ]
  }
 ],
 "metadata": {
  "kernelspec": {
   "display_name": ".venv (3.12.2)",
   "language": "python",
   "name": "python3"
  },
  "language_info": {
   "codemirror_mode": {
    "name": "ipython",
    "version": 3
   },
   "file_extension": ".py",
   "mimetype": "text/x-python",
   "name": "python",
   "nbconvert_exporter": "python",
   "pygments_lexer": "ipython3",
   "version": "3.12.2"
  }
 },
 "nbformat": 4,
 "nbformat_minor": 5
}
